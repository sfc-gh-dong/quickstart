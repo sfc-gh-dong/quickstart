{
 "cells": [
  {
   "cell_type": "code",
   "execution_count": 4,
   "id": "071ffdee",
   "metadata": {},
   "outputs": [],
   "source": [
    "from snowflake.snowpark.session import Session\n",
    "from snowflake.snowpark import DataFrame, Window, functions as F\n",
    "from snowflake.snowpark.types import *\n",
    "from snowflake.snowpark.functions import col, lit, udf\n",
    "\n",
    "import os\n",
    "from cryptography.hazmat.backends import default_backend\n",
    "from cryptography.hazmat.primitives import serialization\n",
    "\n",
    "with open(\"rsa_key.p8\", \"rb\") as key:\n",
    "  p_key= serialization.load_pem_private_key(\n",
    "    key.read(),\n",
    "    password=\"snowflake\".encode(),\n",
    "    backend=default_backend()\n",
    "  )\n",
    "\n",
    "pkb = p_key.private_bytes(\n",
    "  encoding=serialization.Encoding.DER,\n",
    "  format=serialization.PrivateFormat.PKCS8,\n",
    "  encryption_algorithm=serialization.NoEncryption())\n",
    "\n",
    "from config import snowflake_conn_prop\n",
    "\n",
    "snowflake_conn_prop[\"private_key\"] = pkb\n",
    "\n",
    "session = Session.builder.configs(snowflake_conn_prop).create()\n",
    "\n",
    "print(session.sql('select current_warehouse(), current_database(), current_schema(), current_user()').collect())"
   ]
  },
  {
   "cell_type": "code",
   "execution_count": null,
   "id": "4df3414b",
   "metadata": {},
   "outputs": [],
   "source": []
  }
 ],
 "metadata": {
  "kernelspec": {
   "display_name": "Snowpark",
   "language": "python",
   "name": "snowpark"
  },
  "language_info": {
   "codemirror_mode": {
    "name": "ipython",
    "version": 3
   },
   "file_extension": ".py",
   "mimetype": "text/x-python",
   "name": "python",
   "nbconvert_exporter": "python",
   "pygments_lexer": "ipython3",
   "version": "3.8.15"
  }
 },
 "nbformat": 4,
 "nbformat_minor": 5
}
